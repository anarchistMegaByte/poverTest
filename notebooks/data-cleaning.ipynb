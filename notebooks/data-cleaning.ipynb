{
 "cells": [
  {
   "cell_type": "code",
   "execution_count": 1,
   "metadata": {
    "collapsed": true,
    "nbpresent": {
     "id": "9d0ba8e1-5f77-4bc6-b77d-e2727a2080f5"
    }
   },
   "outputs": [],
   "source": [
    "#### Import libraries\n",
    "import pandas as pd\n",
    "import numpy as np\n",
    "from sklearn.ensemble import RandomForestClassifier\n",
    "from sklearn.preprocessing import LabelEncoder\n",
    "from sklearn.model_selection import train_test_split\n",
    "from sklearn.model_selection import GridSearchCV\n",
    "from time import time\n",
    "import matplotlib.pyplot as plt\n",
    "from operator import itemgetter"
   ]
  },
  {
   "cell_type": "code",
   "execution_count": 2,
   "metadata": {
    "collapsed": true,
    "nbpresent": {
     "id": "78f399cb-ed60-423c-a3ad-ce21fdbcfe71"
    }
   },
   "outputs": [],
   "source": [
    "# Load training and test data into pandas dataframes\n",
    "# ACCCESSING DATA FOLDER REFER THIS LINK \n",
    "# (https://stackoverflow.com/questions/7165749/open-file-in-a-relative-location-in-python)\n",
    "\n",
    "import os\n",
    "\n",
    "#TO ACCESS THE PATH IN WHICH CURRENT SCRIPT IS RUNNING\n",
    "fileDir = os.path.dirname(os.path.realpath('__file__'))\n",
    "\n",
    "#For accessing the file inside a sibling folder.\n",
    "#data_type = 'raw' or 'processed'\n",
    "#country   = 'A' or 'B' or 'C'\n",
    "#person_type = 'hhold' or 'indiv'\n",
    "#dataset = 'test' or 'train'\n",
    "\n",
    "def return_file_name(data_type = 'raw', country = 'A', person_type = 'hhold', dataset = 'train'):\n",
    "    path = '../data/' + data_type + '/' + country + '/' + country + '_' + person_type + '_' + dataset +'.csv'\n",
    "    print(\"Building path for file : (\" + path +\")\")\n",
    "    filename = os.path.join(fileDir, path)\n",
    "    filename = os.path.abspath(os.path.realpath(filename))\n",
    "    #print(filename + \"\\n\")\n",
    "    return filename\n",
    "\n",
    "def return_train_test(data_type = 'raw', country = 'A', person_type = 'hhold'):\n",
    "    train = pd.read_csv(return_file_name(data_type = data_type, country = country, person_type = person_type, dataset = 'train'))\n",
    "    test = pd.read_csv(return_file_name(data_type = data_type, country = country, person_type = person_type, dataset = 'test'))\n",
    "    # merge training and test sets into one dataframe\n",
    "    full = pd.concat([train, test])\n",
    "    return train,test,full"
   ]
  },
  {
   "cell_type": "code",
   "execution_count": 26,
   "metadata": {
    "nbpresent": {
     "id": "2ba45402-bd27-488b-94ef-c4bd1d612f01"
    }
   },
   "outputs": [
    {
     "name": "stdout",
     "output_type": "stream",
     "text": [
      "Building path for file : (../data/raw/B/B_indiv_train.csv)\n",
      "Building path for file : (../data/raw/B/B_indiv_test.csv)\n",
      "\n",
      "Train Shape : (20252, 227)\n",
      "Test Shape : (10066, 226)\n",
      "Full Shape : (30318, 227)\n",
      "\n"
     ]
    }
   ],
   "source": [
    "# Get size of dataframes\n",
    "train_set,test_set,full_set = return_train_test(data_type = 'raw', country = 'B', person_type = 'indiv')\n",
    "\n",
    "#shape[0] -> # of rows\n",
    "#shape[1] -> # of cols\n",
    "print(\"\\nTrain Shape : \" + str(train_set.shape))\n",
    "print(\"Test Shape : \" + str(test_set.shape))\n",
    "print(\"Full Shape : \" + str(full_set.shape) + \"\\n\")"
   ]
  },
  {
   "cell_type": "code",
   "execution_count": 27,
   "metadata": {
    "collapsed": true,
    "nbpresent": {
     "id": "14712d19-8013-4c2c-bfab-3847e9405d45"
    }
   },
   "outputs": [],
   "source": [
    "#Looking for Nans\n",
    "#return a formatted percentage from a fraction\n",
    "def percentage(numerator, denomenator):\n",
    "    \n",
    "    if type(numerator) == pd.core.series.Series:\n",
    "        return (numerator/denomenator*100)\n",
    "    \n",
    "    elif type(numerator) == int or type(numerator) == float:\n",
    "        return '{:.1f}%'.format(float(numerator)/float(denomenator)*100) \n",
    "    \n",
    "    else:\n",
    "        print(\"check type\")"
   ]
  },
  {
   "cell_type": "code",
   "execution_count": 28,
   "metadata": {
    "nbpresent": {
     "id": "45eff3ce-743c-475c-a626-0b245697f6c2"
    }
   },
   "outputs": [
    {
     "data": {
      "text/plain": [
       "BoxViLPz    26.696473\n",
       "qlLzyqpP     5.613512\n",
       "unRAgFtX     7.719821\n",
       "TJGiunYp    61.887730\n",
       "WmKLEUcd     1.589667\n",
       "DYgxQeEi     0.248385\n",
       "jfsTwowc     0.526577\n",
       "MGfpfHam     2.006955\n",
       "esHWAAyG    62.275211\n",
       "DtcKwIEv     4.818679\n",
       "ETgxnJOM     4.828614\n",
       "TZDgOhYY    65.007452\n",
       "sWElQwuC     7.719821\n",
       "jzBRbsEG    52.359662\n",
       "CLTXEwmz    26.696473\n",
       "WqEZQuJP    25.414804\n",
       "DSttkpSI    26.696473\n",
       "sIiSADFG     0.268256\n",
       "uDmhgsaQ     2.006955\n",
       "hdDTwJhQ     0.615996\n",
       "AJgudnHB     0.178838\n",
       "iZhWxnWa     9.468455\n",
       "fyfDnyQk     7.719821\n",
       "nxAFXxLQ     1.589667\n",
       "mAeaImix    81.460507\n",
       "HZqPmvkr     2.006955\n",
       "tzYvQeOb    10.034774\n",
       "NfpXxGQk    18.320914\n",
       "dtype: float64"
      ]
     },
     "execution_count": 28,
     "metadata": {},
     "output_type": "execute_result"
    }
   ],
   "source": [
    "#Get percentage by variable of values which are not NaN\n",
    "def return_bad_cols(dataframe):\n",
    "    fill_precent_counts = percentage(dataframe.count()-1, dataframe.shape[0]-1)\n",
    "    bad_cols = fill_precent_counts[fill_precent_counts < 100]\n",
    "    return bad_cols\n",
    "\n",
    "train_bad_cols = return_bad_cols(train_set)\n",
    "test_bad_cols = return_bad_cols(test_set)\n",
    "test_bad_cols"
   ]
  },
  {
   "cell_type": "code",
   "execution_count": 29,
   "metadata": {
    "nbpresent": {
     "id": "b5d20bc0-0feb-4883-bdd1-ee3503632aa4"
    }
   },
   "outputs": [
    {
     "name": "stdout",
     "output_type": "stream",
     "text": [
      "Trying to create folder for A\n",
      "Trying to create folder for B\n",
      "Trying to create folder for C\n"
     ]
    }
   ],
   "source": [
    "#make directory for asving bad columns statistics\n",
    "# refer link (https://stackoverflow.com/questions/273192/how-can-i-create-a-directory-if-it-does-not-exist)\n",
    "stats_folder_path = '../data/stats/'\n",
    "\n",
    "def make_dir(directory):\n",
    "    if not os.path.exists(directory):\n",
    "        os.makedirs(directory)\n",
    "\n",
    "\n",
    "def create_stats_folder():\n",
    "    for name in ['A', 'B', 'C']:\n",
    "        foldername = os.path.join(fileDir, stats_folder_path + name + '/individual')\n",
    "        foldername = os.path.abspath(os.path.realpath(foldername))\n",
    "        make_dir(foldername)\n",
    "        foldername = os.path.join(fileDir, stats_folder_path + name + '/household')\n",
    "        foldername = os.path.abspath(os.path.realpath(foldername))\n",
    "        make_dir(foldername)\n",
    "        print(\"Trying to create folder for \" + name)\n",
    "        \n",
    "def return_bad_col_dtype(bad_columns, dataframe):\n",
    "    data_type = []\n",
    "    for name in bad_columns:\n",
    "        data_type.append(dataframe[name].dtype)\n",
    "    return data_type\n",
    "\n",
    "create_stats_folder()\n",
    "\n"
   ]
  },
  {
   "cell_type": "code",
   "execution_count": 30,
   "metadata": {
    "collapsed": true
   },
   "outputs": [],
   "source": [
    "def return_unique_values(bad_columns, dataframe):\n",
    "    unique_vals = []\n",
    "    for name in bad_columns:\n",
    "        vals = dataframe[dataframe[name].notnull()][name].unique()\n",
    "        unique_vals.append(vals.tolist())\n",
    "    return unique_vals\n",
    "\n",
    "def return_max_val_repeated(bad_columns, dataframe):\n",
    "    freq_count_num = []\n",
    "    val_colon_freq_precent = []\n",
    "    for name in bad_columns:\n",
    "        #refer (https://www.w3resource.com/python-exercises/numpy/python-numpy-exercise-94.php)\n",
    "        unique_elements, counts_elements = np.unique(dataframe[dataframe[name].notnull()][name], return_counts=True)\n",
    "        val_with_max_freq = unique_elements[np.argmax(counts_elements)]\n",
    "        max_freq = int(np.max(counts_elements) / np.sum(counts_elements) * 100)\n",
    "        dict_f = {val_with_max_freq : max_freq}\n",
    "    \n",
    "        dict_temp = {}\n",
    "        for val, count in zip(unique_elements, counts_elements):\n",
    "            dict_temp[val] = int(count / np.sum(counts_elements) * 100)\n",
    "        \n",
    "        freq_count_num.append(dict_f)\n",
    "        val_colon_freq_precent.append(dict_temp)\n",
    "    return freq_count_num, val_colon_freq_precent\n",
    "\n"
   ]
  },
  {
   "cell_type": "code",
   "execution_count": 31,
   "metadata": {
    "nbpresent": {
     "id": "e7a2e8ae-d7ba-469f-9e06-32655b5e0d66"
    }
   },
   "outputs": [
    {
     "data": {
      "text/plain": [
       "\"\\n#refer (https://pandas.pydata.org/pandas-docs/stable/generated/pandas.DataFrame.html)\\ntrain_bad_col_data = {'name': train_bad_cols.keys(), 'per_non_nan': train_bad_cols.values}\\ntrain_bad_col_frame = pd.DataFrame(data=train_bad_col_data)\\n\\n#Add data type col\\nbad_col_data_type = return_bad_col_dtype(train_bad_col_frame['name'], train_set)\\ntrain_bad_col_frame['datatype'] = bad_col_data_type\\n\\n#unique vals col (not used)\\nbad_col_unique_vals = return_unique_values(train_bad_col_frame['name'], train_set)\\n#train_bad_col_frame['unique_vals'] = bad_col_unique_vals\\n\\n#show max freq count \\nbad_col_freq_count, temp = return_max_val_repeated(train_bad_col_frame['name'], train_set)\\ntrain_bad_col_frame['freq_count'] = bad_col_freq_count\\ntrain_bad_col_frame['unique_vals_colon_precent'] = temp\\n\""
      ]
     },
     "execution_count": 31,
     "metadata": {},
     "output_type": "execute_result"
    }
   ],
   "source": [
    "#############################\n",
    "##    data set analysis    ##\n",
    "#############################\n",
    "\n",
    "def data_set_analysis(bad_columns, dataset):\n",
    "    #make a data frame \n",
    "    #refer (https://pandas.pydata.org/pandas-docs/stable/generated/pandas.DataFrame.html)\n",
    "    bad_col_data = {'name': bad_columns.keys(), 'per_non_nan': bad_columns.values}\n",
    "    bad_col_frame = pd.DataFrame(data=bad_col_data)\n",
    "    \n",
    "    #Add data type col\n",
    "    bad_col_data_type = return_bad_col_dtype(bad_col_frame['name'], dataset)\n",
    "    bad_col_frame['datatype'] = bad_col_data_type\n",
    "    \n",
    "    #unique vals col (not used)\n",
    "    bad_col_unique_vals = return_unique_values(bad_col_frame['name'], dataset)\n",
    "    #bad_col_frame['unique_vals'] = bad_col_unique_vals\n",
    "\n",
    "    #show max freq count \n",
    "    bad_col_freq_count, temp = return_max_val_repeated(bad_col_frame['name'], dataset)\n",
    "    bad_col_frame['freq_count'] = bad_col_freq_count\n",
    "    bad_col_frame['unique_vals_colon_precent'] = temp\n",
    "\n",
    "    return bad_col_frame\n",
    "    \n",
    "bad_frame_train = data_set_analysis(train_bad_cols, train_set)\n",
    "bad_frame_test = data_set_analysis(test_bad_cols, test_set)\n",
    "#make a data frame \n",
    "'''\n",
    "#refer (https://pandas.pydata.org/pandas-docs/stable/generated/pandas.DataFrame.html)\n",
    "train_bad_col_data = {'name': train_bad_cols.keys(), 'per_non_nan': train_bad_cols.values}\n",
    "train_bad_col_frame = pd.DataFrame(data=train_bad_col_data)\n",
    "\n",
    "#Add data type col\n",
    "bad_col_data_type = return_bad_col_dtype(train_bad_col_frame['name'], train_set)\n",
    "train_bad_col_frame['datatype'] = bad_col_data_type\n",
    "\n",
    "#unique vals col (not used)\n",
    "bad_col_unique_vals = return_unique_values(train_bad_col_frame['name'], train_set)\n",
    "#train_bad_col_frame['unique_vals'] = bad_col_unique_vals\n",
    "\n",
    "#show max freq count \n",
    "bad_col_freq_count, temp = return_max_val_repeated(train_bad_col_frame['name'], train_set)\n",
    "train_bad_col_frame['freq_count'] = bad_col_freq_count\n",
    "train_bad_col_frame['unique_vals_colon_precent'] = temp\n",
    "'''\n",
    "\n",
    "#train_set[train_set.FGWqGkmD.isnull()].groupby('poor')['poor'].count()\n",
    "#train[train.FGWqGkmD.notnull()].groupby('poor')['poor'].count()\n",
    "\n",
    "#for col_name, precent in zip(train_bad_cols.keys(),train_bad_cols.values):\n",
    "    #print(col_name + \" \" + str(precent))"
   ]
  },
  {
   "cell_type": "code",
   "execution_count": 32,
   "metadata": {
    "collapsed": true
   },
   "outputs": [],
   "source": [
    "#country = 'A'\n",
    "country = 'B'\n",
    "#country = 'C'\n",
    "\n",
    "#type_people = 'household'\n",
    "type_people = 'individual'\n",
    "\n",
    "stats_name_train = os.path.join(fileDir, stats_folder_path + country + '/'+ type_people + '/' + country +'_' + type_people + '_train.csv')\n",
    "stats_name_train = os.path.abspath(os.path.realpath(stats_name_train))\n",
    "\n",
    "stats_name_test = os.path.join(fileDir, stats_folder_path + country + '/'+ type_people + '/' + country +'_' + type_people + '_test.csv')\n",
    "stats_name_test = os.path.abspath(os.path.realpath(stats_name_test))\n",
    "\n",
    "\n",
    "bad_frame_train.to_csv(stats_name_train, index=False)\n",
    "\n",
    "bad_frame_test.to_csv(stats_name_test, index=False)"
   ]
  },
  {
   "cell_type": "code",
   "execution_count": 10,
   "metadata": {},
   "outputs": [
    {
     "data": {
      "text/plain": [
       "FGWqGkmD    18.469576\n",
       "BXOWgPgL    76.920713\n",
       "umkFMfvA    27.320221\n",
       "McFBIGsm    76.920713\n",
       "IrxBnWxE     8.328211\n",
       "BRzuVmyf    55.101414\n",
       "dnlnKrAg    16.318377\n",
       "aAufyreG    27.904118\n",
       "OSmfjCbE    76.920713\n",
       "dtype: float64"
      ]
     },
     "execution_count": 10,
     "metadata": {},
     "output_type": "execute_result"
    }
   ],
   "source": [
    "train_bad_cols"
   ]
  },
  {
   "cell_type": "code",
   "execution_count": 11,
   "metadata": {},
   "outputs": [
    {
     "data": {
      "text/plain": [
       "FGWqGkmD    19.713038\n",
       "BXOWgPgL    77.479726\n",
       "umkFMfvA    27.448534\n",
       "McFBIGsm    77.479726\n",
       "IrxBnWxE     8.608858\n",
       "BRzuVmyf    54.897068\n",
       "dnlnKrAg    15.159077\n",
       "aAufyreG    26.637555\n",
       "OSmfjCbE    77.604492\n",
       "dtype: float64"
      ]
     },
     "execution_count": 11,
     "metadata": {},
     "output_type": "execute_result"
    }
   ],
   "source": [
    "test_bad_cols"
   ]
  },
  {
   "cell_type": "code",
   "execution_count": 22,
   "metadata": {},
   "outputs": [
    {
     "data": {
      "text/plain": [
       "(85, 443)"
      ]
     },
     "execution_count": 22,
     "metadata": {},
     "output_type": "execute_result"
    }
   ],
   "source": [
    "#Droping the ones where all of the above columns have nan value\n",
    "train_set[train_set['FGWqGkmD'].isnull() & train_set['BXOWgPgL'].isnull() & train_set['umkFMfvA'].isnull()\n",
    "         & train_set['McFBIGsm'].isnull() & train_set['IrxBnWxE'].isnull() & train_set['BRzuVmyf'].isnull()\n",
    "         & train_set['dnlnKrAg'].isnull() & train_set['aAufyreG'].isnull() & train_set['OSmfjCbE'].isnull()].shape"
   ]
  },
  {
   "cell_type": "code",
   "execution_count": 33,
   "metadata": {},
   "outputs": [
    {
     "data": {
      "text/plain": [
       "BoxViLPz    26.951755\n",
       "qlLzyqpP     5.846625\n",
       "unRAgFtX     8.152684\n",
       "TJGiunYp    61.493260\n",
       "WmKLEUcd     1.743124\n",
       "DYgxQeEi     0.232087\n",
       "jfsTwowc     0.666634\n",
       "MGfpfHam     2.157918\n",
       "esHWAAyG    63.221569\n",
       "DtcKwIEv     4.898524\n",
       "ETgxnJOM     4.947904\n",
       "TZDgOhYY    65.853538\n",
       "sWElQwuC     8.157622\n",
       "jzBRbsEG    51.306108\n",
       "CLTXEwmz    26.956693\n",
       "WqEZQuJP    26.591279\n",
       "DSttkpSI    26.951755\n",
       "sIiSADFG     0.325910\n",
       "uDmhgsaQ     2.157918\n",
       "hdDTwJhQ     0.483927\n",
       "AJgudnHB     0.098761\n",
       "iZhWxnWa    10.572317\n",
       "fyfDnyQk     8.152684\n",
       "nxAFXxLQ     1.777690\n",
       "mAeaImix    81.591033\n",
       "HZqPmvkr     2.157918\n",
       "tzYvQeOb     9.994568\n",
       "NfpXxGQk    18.779320\n",
       "dtype: float64"
      ]
     },
     "execution_count": 33,
     "metadata": {},
     "output_type": "execute_result"
    }
   ],
   "source": [
    "train_bad_cols"
   ]
  },
  {
   "cell_type": "code",
   "execution_count": 25,
   "metadata": {},
   "outputs": [
    {
     "data": {
      "text/plain": [
       "(3255, 443)"
      ]
     },
     "execution_count": 25,
     "metadata": {},
     "output_type": "execute_result"
    }
   ],
   "source": [
    "df.shape"
   ]
  },
  {
   "cell_type": "code",
   "execution_count": null,
   "metadata": {},
   "outputs": [],
   "source": []
  },
  {
   "cell_type": "code",
   "execution_count": null,
   "metadata": {
    "collapsed": true
   },
   "outputs": [],
   "source": []
  }
 ],
 "metadata": {
  "kernelspec": {
   "display_name": "Python 3",
   "language": "python",
   "name": "python3"
  },
  "language_info": {
   "codemirror_mode": {
    "name": "ipython",
    "version": 3
   },
   "file_extension": ".py",
   "mimetype": "text/x-python",
   "name": "python",
   "nbconvert_exporter": "python",
   "pygments_lexer": "ipython3",
   "version": "3.6.3"
  },
  "nbpresent": {
   "slides": {},
   "themes": {
    "default": "73cd4103-868f-43c3-99d0-85dd974feccb",
    "theme": {
     "58ba9fba-5c9f-48e3-a2d3-c1d1c2ca5a54": {
      "backgrounds": {
       "backgroundColor": {
        "background-color": "backgroundColor",
        "id": "backgroundColor"
       }
      },
      "id": "58ba9fba-5c9f-48e3-a2d3-c1d1c2ca5a54",
      "palette": {
       "backgroundColor": {
        "id": "backgroundColor",
        "rgb": [
         17,
         17,
         17
        ]
       },
       "headingColor": {
        "id": "headingColor",
        "rgb": [
         238,
         238,
         238
        ]
       },
       "linkColor": {
        "id": "linkColor",
        "rgb": [
         231,
         173,
         82
        ]
       },
       "mainColor": {
        "id": "mainColor",
        "rgb": [
         238,
         238,
         238
        ]
       }
      },
      "rules": {
       "a": {
        "color": "linkColor"
       },
       "h1": {
        "color": "headingColor",
        "font-family": "Montserrat",
        "font-size": 7
       },
       "h2": {
        "color": "headingColor",
        "font-family": "Montserrat",
        "font-size": 5
       },
       "h3": {
        "color": "headingColor",
        "font-family": "Montserrat",
        "font-size": 3.75
       },
       "h4": {
        "color": "headingColor",
        "font-family": "Montserrat",
        "font-size": 3
       },
       "h5": {
        "color": "headingColor",
        "font-family": "Montserrat"
       },
       "h6": {
        "color": "headingColor",
        "font-family": "Montserrat"
       },
       "h7": {
        "color": "headingColor",
        "font-family": "Montserrat"
       },
       "li": {
        "color": "mainColor",
        "font-family": "Open Sans",
        "font-size": 4
       },
       "p": {
        "color": "mainColor",
        "font-family": "Open Sans",
        "font-size": 4
       }
      },
      "text-base": {
       "color": "mainColor",
       "font-family": "Open Sans",
       "font-size": 4
      }
     },
     "73cd4103-868f-43c3-99d0-85dd974feccb": {
      "backgrounds": {
       "backgroundColor": {
        "background-color": "backgroundColor",
        "id": "backgroundColor"
       }
      },
      "id": "73cd4103-868f-43c3-99d0-85dd974feccb",
      "palette": {
       "backgroundColor": {
        "id": "backgroundColor",
        "rgb": [
         17,
         17,
         17
        ]
       },
       "headingColor": {
        "id": "headingColor",
        "rgb": [
         238,
         238,
         238
        ]
       },
       "linkColor": {
        "id": "linkColor",
        "rgb": [
         231,
         173,
         82
        ]
       },
       "mainColor": {
        "id": "mainColor",
        "rgb": [
         238,
         238,
         238
        ]
       }
      },
      "rules": {
       "a": {
        "color": "linkColor"
       },
       "h1": {
        "color": "headingColor",
        "font-family": "Montserrat",
        "font-size": 7
       },
       "h2": {
        "color": "headingColor",
        "font-family": "Montserrat",
        "font-size": 5
       },
       "h3": {
        "color": "headingColor",
        "font-family": "Montserrat",
        "font-size": 3.75
       },
       "h4": {
        "color": "headingColor",
        "font-family": "Montserrat",
        "font-size": 3
       },
       "h5": {
        "color": "headingColor",
        "font-family": "Montserrat"
       },
       "h6": {
        "color": "headingColor",
        "font-family": "Montserrat"
       },
       "h7": {
        "color": "headingColor",
        "font-family": "Montserrat"
       },
       "li": {
        "color": "mainColor",
        "font-family": "Open Sans",
        "font-size": 4
       },
       "p": {
        "color": "mainColor",
        "font-family": "Open Sans",
        "font-size": 4
       }
      },
      "text-base": {
       "color": "mainColor",
       "font-family": "Open Sans",
       "font-size": 4
      }
     }
    }
   }
  }
 },
 "nbformat": 4,
 "nbformat_minor": 2
}
