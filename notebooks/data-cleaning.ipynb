{
 "cells": [
  {
   "cell_type": "code",
   "execution_count": 24,
   "metadata": {
    "nbpresent": {
     "id": "9d0ba8e1-5f77-4bc6-b77d-e2727a2080f5"
    }
   },
   "outputs": [],
   "source": [
    "# Import libraries\n",
    "import pandas as pd\n",
    "import numpy as np\n",
    "from sklearn.ensemble import RandomForestClassifier\n",
    "from sklearn.preprocessing import LabelEncoder\n",
    "from sklearn.model_selection import train_test_split\n",
    "from sklearn.model_selection import GridSearchCV\n",
    "from time import time\n",
    "import matplotlib.pyplot as plt\n",
    "from operator import itemgetter"
   ]
  },
  {
   "cell_type": "code",
   "execution_count": 35,
   "metadata": {
    "nbpresent": {
     "id": "78f399cb-ed60-423c-a3ad-ce21fdbcfe71"
    }
   },
   "outputs": [],
   "source": [
    "# Load training and test data into pandas dataframes\n",
    "# ACCCESSING DATA FOLDER REFER THIS LINK \n",
    "# (https://stackoverflow.com/questions/7165749/open-file-in-a-relative-location-in-python)\n",
    "\n",
    "import os\n",
    "\n",
    "#TO ACCESS THE PATH IN WHICH CURRENT SCRIPT IS RUNNING\n",
    "fileDir = os.path.dirname(os.path.realpath('__file__'))\n",
    "\n",
    "#For accessing the file inside a sibling folder.\n",
    "#data_type = 'raw' or 'processed'\n",
    "#country   = 'A' or 'B' or 'C'\n",
    "#person_type = 'hhold' or 'indiv'\n",
    "#dataset = 'test' or 'train'\n",
    "\n",
    "def return_file_name(data_type = 'raw', country = 'A', person_type = 'hhold', dataset = 'train'):\n",
    "    path = '../data/' + data_type + '/' + country + '/' + country + '_' + person_type + '_' + dataset +'.csv'\n",
    "    print(\"Building path for file : (\" + path +\")\")\n",
    "    filename = os.path.join(fileDir, path)\n",
    "    filename = os.path.abspath(os.path.realpath(filename))\n",
    "    #print(filename + \"\\n\")\n",
    "    return filename\n",
    "\n",
    "def return_train_test(data_type = 'raw', country = 'B', person_type = 'hhold'):\n",
    "    train = pd.read_csv(return_file_name(data_type = data_type, country = country, person_type = person_type, dataset = 'train'))\n",
    "    test = pd.read_csv(return_file_name(data_type = data_type, country = country, person_type = person_type, dataset = 'test'))\n",
    "    # merge training and test sets into one dataframe\n",
    "    full = pd.concat([train, test])\n",
    "    return train,test,full"
   ]
  },
  {
   "cell_type": "code",
   "execution_count": 38,
   "metadata": {
    "nbpresent": {
     "id": "2ba45402-bd27-488b-94ef-c4bd1d612f01"
    }
   },
   "outputs": [
    {
     "name": "stdout",
     "output_type": "stream",
     "text": [
      "Building path for file : (../data/raw/B/B_hhold_train.csv)\n",
      "Building path for file : (../data/raw/B/B_hhold_test.csv)\n",
      "\n",
      "Train Shape : (3255, 443)\n",
      "Test Shape : (1604, 442)\n",
      "Full Shape : (4859, 443)\n",
      "\n"
     ]
    }
   ],
   "source": [
    "# Get size of dataframes\n",
    "train_set,test_set,full_set = return_train_test(data_type = 'raw', country = 'B', person_type = 'hhold')\n",
    "\n",
    "#shape[0] -> # of rows\n",
    "#shape[1] -> # of cols\n",
    "print(\"\\nTrain Shape : \" + str(train_set.shape))\n",
    "print(\"Test Shape : \" + str(test_set.shape))\n",
    "print(\"Full Shape : \" + str(full_set.shape) + \"\\n\")"
   ]
  },
  {
   "cell_type": "code",
   "execution_count": 55,
   "metadata": {
    "nbpresent": {
     "id": "14712d19-8013-4c2c-bfab-3847e9405d45"
    }
   },
   "outputs": [],
   "source": [
    "#Looking for Nans\n",
    "#return a formatted percentage from a fraction\n",
    "def percentage(numerator, denomenator):\n",
    "    \n",
    "    if type(numerator) == pd.core.series.Series:\n",
    "        return (numerator/denomenator*100)\n",
    "    \n",
    "    elif type(numerator) == int or type(numerator) == float:\n",
    "        return '{:.1f}%'.format(float(numerator)/float(denomenator)*100) \n",
    "    \n",
    "    else:\n",
    "        print(\"check type\")"
   ]
  },
  {
   "cell_type": "code",
   "execution_count": 64,
   "metadata": {
    "nbpresent": {
     "id": "45eff3ce-743c-475c-a626-0b245697f6c2"
    }
   },
   "outputs": [
    {
     "data": {
      "text/plain": [
       "FGWqGkmD    19.713038\n",
       "BXOWgPgL    77.479726\n",
       "umkFMfvA    27.448534\n",
       "McFBIGsm    77.479726\n",
       "IrxBnWxE     8.608858\n",
       "BRzuVmyf    54.897068\n",
       "dnlnKrAg    15.159077\n",
       "aAufyreG    26.637555\n",
       "OSmfjCbE    77.604492\n",
       "dtype: float64"
      ]
     },
     "execution_count": 64,
     "metadata": {},
     "output_type": "execute_result"
    }
   ],
   "source": [
    "#Get percentage by variable of values which are not NaN\n",
    "fill_precent_counts = percentage(test.count()-1, test.shape[0]-1)\n",
    "bad_cols = fill_precent_counts[fill_precent_counts < 100]\n",
    "bad_cols"
   ]
  },
  {
   "cell_type": "code",
   "execution_count": 65,
   "metadata": {
    "nbpresent": {
     "id": "b5d20bc0-0feb-4883-bdd1-ee3503632aa4"
    }
   },
   "outputs": [
    {
     "data": {
      "text/plain": [
       "FGWqGkmD    18.469576\n",
       "BXOWgPgL    76.920713\n",
       "umkFMfvA    27.320221\n",
       "McFBIGsm    76.920713\n",
       "IrxBnWxE     8.328211\n",
       "BRzuVmyf    55.101414\n",
       "dnlnKrAg    16.318377\n",
       "aAufyreG    27.904118\n",
       "OSmfjCbE    76.920713\n",
       "dtype: float64"
      ]
     },
     "execution_count": 65,
     "metadata": {},
     "output_type": "execute_result"
    }
   ],
   "source": [
    "#Get percentage by variable of values which are not NaN\n",
    "fill_precent_counts = percentage(train.count()-1, train.shape[0]-1)\n",
    "bad_cols = fill_precent_counts[fill_precent_counts < 100]\n",
    "bad_cols"
   ]
  },
  {
   "cell_type": "code",
   "execution_count": 99,
   "metadata": {
    "nbpresent": {
     "id": "e7a2e8ae-d7ba-469f-9e06-32655b5e0d66"
    }
   },
   "outputs": [
    {
     "data": {
      "text/plain": [
       "2.0"
      ]
     },
     "execution_count": 99,
     "metadata": {},
     "output_type": "execute_result"
    }
   ],
   "source": [
    "train[train.FGWqGkmD.notnull()]['FGWqGkmD'].unique\n",
    "unique_elements, counts_elements = np.unique(train[train.FGWqGkmD.notnull()]['FGWqGkmD'], return_counts=True)\n",
    "unique_elements[np.argmax(counts_elements)]"
   ]
  },
  {
   "cell_type": "code",
   "execution_count": 100,
   "metadata": {
    "nbpresent": {
     "id": "c52aeb5a-3618-4e6b-8f31-ec078d16a8ac"
    }
   },
   "outputs": [
    {
     "data": {
      "text/plain": [
       "602"
      ]
     },
     "execution_count": 100,
     "metadata": {},
     "output_type": "execute_result"
    }
   ],
   "source": [
    "np.sum(counts_elements)"
   ]
  },
  {
   "cell_type": "code",
   "execution_count": 108,
   "metadata": {
    "nbpresent": {
     "id": "c4744c1c-110b-44dd-8ec8-f429a549ac33"
    }
   },
   "outputs": [
    {
     "data": {
      "text/plain": [
       "poor\n",
       "False    2437\n",
       "True      216\n",
       "Name: poor, dtype: int64"
      ]
     },
     "execution_count": 108,
     "metadata": {},
     "output_type": "execute_result"
    }
   ],
   "source": [
    "train[train.FGWqGkmD.isnull()].groupby('poor')['poor'].count()"
   ]
  },
  {
   "cell_type": "code",
   "execution_count": 105,
   "metadata": {},
   "outputs": [
    {
     "data": {
      "text/plain": [
       "0.18494623655913978"
      ]
     },
     "execution_count": 105,
     "metadata": {},
     "output_type": "execute_result"
    }
   ],
   "source": [
    "602/(2653+602)"
   ]
  },
  {
   "cell_type": "code",
   "execution_count": 109,
   "metadata": {},
   "outputs": [
    {
     "data": {
      "text/plain": [
       "poor\n",
       "False    567\n",
       "True      35\n",
       "Name: poor, dtype: int64"
      ]
     },
     "execution_count": 109,
     "metadata": {},
     "output_type": "execute_result"
    }
   ],
   "source": [
    "train[train.FGWqGkmD.notnull()].groupby('poor')['poor'].count()"
   ]
  },
  {
   "cell_type": "code",
   "execution_count": null,
   "metadata": {},
   "outputs": [],
   "source": []
  }
 ],
 "metadata": {
  "kernelspec": {
   "display_name": "Python [conda env:driven-data]",
   "language": "python",
   "name": "conda-env-driven-data-py"
  },
  "language_info": {
   "codemirror_mode": {
    "name": "ipython",
    "version": 3
   },
   "file_extension": ".py",
   "mimetype": "text/x-python",
   "name": "python",
   "nbconvert_exporter": "python",
   "pygments_lexer": "ipython3",
   "version": "3.6.3"
  },
  "nbpresent": {
   "slides": {},
   "themes": {
    "default": "73cd4103-868f-43c3-99d0-85dd974feccb",
    "theme": {
     "58ba9fba-5c9f-48e3-a2d3-c1d1c2ca5a54": {
      "backgrounds": {
       "backgroundColor": {
        "background-color": "backgroundColor",
        "id": "backgroundColor"
       }
      },
      "id": "58ba9fba-5c9f-48e3-a2d3-c1d1c2ca5a54",
      "palette": {
       "backgroundColor": {
        "id": "backgroundColor",
        "rgb": [
         17,
         17,
         17
        ]
       },
       "headingColor": {
        "id": "headingColor",
        "rgb": [
         238,
         238,
         238
        ]
       },
       "linkColor": {
        "id": "linkColor",
        "rgb": [
         231,
         173,
         82
        ]
       },
       "mainColor": {
        "id": "mainColor",
        "rgb": [
         238,
         238,
         238
        ]
       }
      },
      "rules": {
       "a": {
        "color": "linkColor"
       },
       "h1": {
        "color": "headingColor",
        "font-family": "Montserrat",
        "font-size": 7
       },
       "h2": {
        "color": "headingColor",
        "font-family": "Montserrat",
        "font-size": 5
       },
       "h3": {
        "color": "headingColor",
        "font-family": "Montserrat",
        "font-size": 3.75
       },
       "h4": {
        "color": "headingColor",
        "font-family": "Montserrat",
        "font-size": 3
       },
       "h5": {
        "color": "headingColor",
        "font-family": "Montserrat"
       },
       "h6": {
        "color": "headingColor",
        "font-family": "Montserrat"
       },
       "h7": {
        "color": "headingColor",
        "font-family": "Montserrat"
       },
       "li": {
        "color": "mainColor",
        "font-family": "Open Sans",
        "font-size": 4
       },
       "p": {
        "color": "mainColor",
        "font-family": "Open Sans",
        "font-size": 4
       }
      },
      "text-base": {
       "color": "mainColor",
       "font-family": "Open Sans",
       "font-size": 4
      }
     },
     "73cd4103-868f-43c3-99d0-85dd974feccb": {
      "backgrounds": {
       "backgroundColor": {
        "background-color": "backgroundColor",
        "id": "backgroundColor"
       }
      },
      "id": "73cd4103-868f-43c3-99d0-85dd974feccb",
      "palette": {
       "backgroundColor": {
        "id": "backgroundColor",
        "rgb": [
         17,
         17,
         17
        ]
       },
       "headingColor": {
        "id": "headingColor",
        "rgb": [
         238,
         238,
         238
        ]
       },
       "linkColor": {
        "id": "linkColor",
        "rgb": [
         231,
         173,
         82
        ]
       },
       "mainColor": {
        "id": "mainColor",
        "rgb": [
         238,
         238,
         238
        ]
       }
      },
      "rules": {
       "a": {
        "color": "linkColor"
       },
       "h1": {
        "color": "headingColor",
        "font-family": "Montserrat",
        "font-size": 7
       },
       "h2": {
        "color": "headingColor",
        "font-family": "Montserrat",
        "font-size": 5
       },
       "h3": {
        "color": "headingColor",
        "font-family": "Montserrat",
        "font-size": 3.75
       },
       "h4": {
        "color": "headingColor",
        "font-family": "Montserrat",
        "font-size": 3
       },
       "h5": {
        "color": "headingColor",
        "font-family": "Montserrat"
       },
       "h6": {
        "color": "headingColor",
        "font-family": "Montserrat"
       },
       "h7": {
        "color": "headingColor",
        "font-family": "Montserrat"
       },
       "li": {
        "color": "mainColor",
        "font-family": "Open Sans",
        "font-size": 4
       },
       "p": {
        "color": "mainColor",
        "font-family": "Open Sans",
        "font-size": 4
       }
      },
      "text-base": {
       "color": "mainColor",
       "font-family": "Open Sans",
       "font-size": 4
      }
     }
    }
   }
  }
 },
 "nbformat": 4,
 "nbformat_minor": 2
}
